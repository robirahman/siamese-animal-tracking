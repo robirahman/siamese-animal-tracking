{
 "cells": [
  {
   "cell_type": "markdown",
   "id": "ea3db016",
   "metadata": {},
   "source": [
    "# Embedding distance thresholds"
   ]
  },
  {
   "cell_type": "markdown",
   "id": "97fddf6d",
   "metadata": {},
   "source": [
    "The idea here is to train the siamese network using different datasets consisting of all but one tortoise, then seeing how far the embedding of that tortoise is from the images which the network was trained on. This should give an idea of what the threshold should be for determining a tortoise is new, as opposed to one we have encountered before."
   ]
  },
  {
   "cell_type": "code",
   "execution_count": null,
   "id": "ca038943",
   "metadata": {},
   "outputs": [],
   "source": []
  }
 ],
 "metadata": {
  "kernelspec": {
   "display_name": "Python 3 (ipykernel)",
   "language": "python",
   "name": "python3"
  },
  "language_info": {
   "codemirror_mode": {
    "name": "ipython",
    "version": 3
   },
   "file_extension": ".py",
   "mimetype": "text/x-python",
   "name": "python",
   "nbconvert_exporter": "python",
   "pygments_lexer": "ipython3",
   "version": "3.9.7"
  }
 },
 "nbformat": 4,
 "nbformat_minor": 5
}
